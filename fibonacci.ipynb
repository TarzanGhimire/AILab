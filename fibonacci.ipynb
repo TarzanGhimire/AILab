{
 "cells": [
  {
   "cell_type": "code",
   "execution_count": null,
   "metadata": {},
   "outputs": [],
   "source": [
    "x=int(input(\"Enter a number \"))\n",
    "y=0\n",
    "i=0\n",
    "for i in range(1,x):\n",
    "    if x%i==0:\n",
    "        y=y+1\n",
    "\n",
    "if y<2:\n",
    "    print(\"Prime\")\n",
    "else:\n",
    "    print(\"Not Prime\")"
   ]
  }
 ],
 "metadata": {
  "language_info": {
   "name": "python"
  }
 },
 "nbformat": 4,
 "nbformat_minor": 2
}
