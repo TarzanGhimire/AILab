{
 "cells": [
  {
   "cell_type": "code",
   "execution_count": 2,
   "metadata": {},
   "outputs": [
    {
     "name": "stdout",
     "output_type": "stream",
     "text": [
      "The fibo series can be as 2 2\n",
      "4\n",
      "6\n",
      "10\n",
      "16\n",
      "26\n",
      "42\n",
      "68\n",
      "110\n",
      "178\n",
      "288\n"
     ]
    }
   ],
   "source": [
    "x=int(input(\"Enter the digit\"))\n",
    "y=x\n",
    "print(f\"The fibo series can be as {x} {y}\")\n",
    "z=int(0)\n",
    "i=0\n",
    "for i in range(10):\n",
    "    z=x+y\n",
    "    print(z)\n",
    "    x=y\n",
    "    y=z\n"
   ]
  }
 ],
 "metadata": {
  "kernelspec": {
   "display_name": "Python 3",
   "language": "python",
   "name": "python3"
  },
  "language_info": {
   "codemirror_mode": {
    "name": "ipython",
    "version": 3
   },
   "file_extension": ".py",
   "mimetype": "text/x-python",
   "name": "python",
   "nbconvert_exporter": "python",
   "pygments_lexer": "ipython3",
   "version": "3.9.13"
  }
 },
 "nbformat": 4,
 "nbformat_minor": 2
}
