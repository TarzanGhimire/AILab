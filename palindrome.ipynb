{
 "cells": [
  {
   "cell_type": "code",
   "execution_count": null,
   "metadata": {},
   "outputs": [],
   "source": [
    "x=int(input(\"Enter a number\"))\n",
    "a=x\n",
    "y=0\n",
    "i=0\n",
    "for i in range(len(str(x))):\n",
    "    y=int(y*10 + x%10)\n",
    "    x=int(x/10)\n",
    "\n",
    "if a==y:\n",
    "    print(\"Palindrome \")\n",
    "else:\n",
    "    print(\"Not Palindrome\")"
   ]
  }
 ],
 "metadata": {
  "language_info": {
   "name": "python"
  }
 },
 "nbformat": 4,
 "nbformat_minor": 2
}
