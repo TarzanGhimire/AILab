{
 "cells": [
  {
   "cell_type": "code",
   "execution_count": 6,
   "metadata": {},
   "outputs": [
    {
     "name": "stdout",
     "output_type": "stream",
     "text": [
      "1\n",
      "2\n",
      "3\n",
      "5\n",
      "7\n"
     ]
    }
   ],
   "source": [
    "\n",
    "def prime_in_range():\n",
    "    a=int(input(\"Enter the range\"))\n",
    "    b=int(input())\n",
    "\n",
    "   \n",
    "    i=0\n",
    "    j=0\n",
    "    for j in range(a,b):\n",
    "        y=0\n",
    "        i=0\n",
    "        for i in range(1,j):\n",
    "            if j%i==0:\n",
    "                y=y+1\n",
    "\n",
    "        if y<2:\n",
    "            print(j)\n",
    "           \n",
    "\n",
    "prime_in_range()\n",
    "\n"
   ]
  }
 ],
 "metadata": {
  "kernelspec": {
   "display_name": "Python 3",
   "language": "python",
   "name": "python3"
  },
  "language_info": {
   "codemirror_mode": {
    "name": "ipython",
    "version": 3
   },
   "file_extension": ".py",
   "mimetype": "text/x-python",
   "name": "python",
   "nbconvert_exporter": "python",
   "pygments_lexer": "ipython3",
   "version": "3.9.13"
  }
 },
 "nbformat": 4,
 "nbformat_minor": 2
}
