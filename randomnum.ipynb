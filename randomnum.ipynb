{
 "cells": [
  {
   "cell_type": "code",
   "execution_count": 2,
   "metadata": {},
   "outputs": [
    {
     "name": "stdout",
     "output_type": "stream",
     "text": [
      "Let me pick a number between 1 to 100\n",
      "Hmmmm\n",
      "Higher\n",
      "Higher\n",
      "Higher\n",
      "Higher\n",
      "Higher\n",
      "Higher\n",
      "Higher\n",
      "Lower\n",
      "Lower\n",
      "Congratulations you guessed it right !!!\n"
     ]
    }
   ],
   "source": [
    "import time\n",
    "import random\n",
    "x=random.randint(1,100)\n",
    "print(\"Let me pick a number between 1 to 100\")\n",
    "time.sleep(1)\n",
    "print(\"Hmmmm\")\n",
    "time.sleep(1)\n",
    "y=int(0)\n",
    "while(x!=y):\n",
    "    y=int(input(\"Now enter your guess.\"))\n",
    "    if x>y:\n",
    "        print(\"Higher\")\n",
    "    elif x<y:\n",
    "        print(\"Lower\")\n",
    "    elif x==y:\n",
    "        print(\"Congratulations you guessed it right !!!\")\n",
    "\n"
   ]
  },
  {
   "cell_type": "markdown",
   "metadata": {},
   "source": []
  }
 ],
 "metadata": {
  "kernelspec": {
   "display_name": "Python 3",
   "language": "python",
   "name": "python3"
  },
  "language_info": {
   "codemirror_mode": {
    "name": "ipython",
    "version": 3
   },
   "file_extension": ".py",
   "mimetype": "text/x-python",
   "name": "python",
   "nbconvert_exporter": "python",
   "pygments_lexer": "ipython3",
   "version": "3.9.13"
  }
 },
 "nbformat": 4,
 "nbformat_minor": 2
}
